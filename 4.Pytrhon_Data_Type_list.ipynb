{
 "cells": [
  {
   "cell_type": "markdown",
   "id": "96483e89-5b7b-41c8-9d7b-b7cab73b148a",
   "metadata": {},
   "source": [
    "# Python : List and Tuples\n",
    "\n",
    "+ list,tuples,string 은 모두 데이터의 배열이다. (파이썬의 Standard library 에서)\n",
    "\n",
    "+ element(구성요소)들은 index를 가지고 있다.\n",
    "\n",
    "+ 모든 배열의 index의 시작은 0부터 시작한다."
   ]
  },
  {
   "cell_type": "markdown",
   "id": "70e2a1be-fa3f-4778-942f-6455b0bd8846",
   "metadata": {},
   "source": [
    "1. List: concept, indexing, and slicing\n",
    "\n",
    "+ list는 여려 타입의 데이터 저장이 가능\n",
    "\n",
    "+ list 안에 element는 변경이 가능하다.\n",
    "\n",
    "+ list는 대괄호 표시로 선언한다."
   ]
  },
  {
   "cell_type": "code",
   "execution_count": 5,
   "id": "ae9502c4-c2b1-42a8-9fcf-5e99eef12b87",
   "metadata": {},
   "outputs": [
    {
     "name": "stdout",
     "output_type": "stream",
     "text": [
      "<class 'list'> [1, 2, 3, 4, 5, 6, 11, 'a', 'b']\n"
     ]
    }
   ],
   "source": [
    "#list의 예\n",
    "list1 = [1, 2,3,4,5, 6,11, 'a', 'b']\n",
    "print(type(list1),list1)\n",
    "#list data를 출력할 때는 한 칸씩 띄워서 표기됨"
   ]
  },
  {
   "cell_type": "code",
   "execution_count": 6,
   "id": "3b7acf53-8f32-4386-8ce8-30cc61323e29",
   "metadata": {},
   "outputs": [
    {
     "name": "stdout",
     "output_type": "stream",
     "text": [
      "2 a\n",
      "[3, 4, 5]\n",
      "[1, 2, 3, 4, 5, 6, 11]\n",
      "[5, 6, 11, 'a', 'b']\n",
      "b\n",
      "6\n",
      "[4, 5, 6, 11, 'a', 'b']\n"
     ]
    }
   ],
   "source": [
    "#파이썬에서 인덱스 숫자를 지정할때는 대괄호 속에 집어넣는다.\n",
    "print(list1[1],list1[7])\n",
    "print(list1[2:5])  # index 2~5 (5제외하고 4까지 출력)\n",
    "print(list1[:7])   # 시작 인덱스 지정안할시 처음부터 출력\n",
    "print(list1[4:])   # 뒤 인덱스 지정 안할시 마지막까지 출력\n",
    "print(list1[-1])   # 인덱스의 반대 방향 (-1 = 맨 마지막)\n",
    "print(list1[-4])\n",
    "print(list1[1+2:]) #인덱스의 숫자를 더함 (1+2: = 3:)"
   ]
  },
  {
   "cell_type": "code",
   "execution_count": 7,
   "id": "1d3f2857-41a3-49c1-b19e-98a2e0218167",
   "metadata": {},
   "outputs": [
    {
     "data": {
      "text/plain": [
       "9"
      ]
     },
     "execution_count": 7,
     "metadata": {},
     "output_type": "execute_result"
    }
   ],
   "source": [
    "#list 의 크기 구하기 len() \n",
    "len(list1)"
   ]
  },
  {
   "cell_type": "code",
   "execution_count": 8,
   "id": "64353b1e-4f02-49e3-b70c-811efe3a9542",
   "metadata": {},
   "outputs": [
    {
     "name": "stdout",
     "output_type": "stream",
     "text": [
      "[1, 2, 3, 4, 5, 6, 'c', 'a', 'b']\n"
     ]
    }
   ],
   "source": [
    "# 지정한 index의 element 수정\n",
    "list1[6] = 'c' #6번 index의 값을 c 로변경\n",
    "print(list1)\n",
    "# 지정한 index 더 큰 index를 호출하면 에러 메시지 "
   ]
  },
  {
   "cell_type": "code",
   "execution_count": 9,
   "id": "95a108f1-f6b3-45ca-9bf3-b8c770ebb467",
   "metadata": {},
   "outputs": [
    {
     "name": "stdout",
     "output_type": "stream",
     "text": [
      "[11, 12, 13]\n",
      "['P', 'y', 't', 'h', 'o', 'n', ' ', 'K', 'o', 'o', 'c'] 11\n",
      "['P', 'y', 't', 'h', 'o', 'n', ' ', 'K', 'o', 'o', 'c', 'M', 'o', 'o', 'c'] 15\n"
     ]
    }
   ],
   "source": [
    "list2 =[] #값이 없는 인덱스 생성\n",
    "for item in range(11,14,1): #for 반복문을 이용 11~14 까지 1간격으로 배열생성\n",
    "    list2 += [item]   # item의 나온 값을 list에 대입\n",
    "    #list2.append(item)   #Python 기본 메써드 append      == list += [item]\n",
    "print(list2)\n",
    "\n",
    "list3= []\n",
    "list3 += 'Python Kooc' # 한 글자 씩 인덱스에 할당 됨\n",
    "print(list3, len(list3))\n",
    "\n",
    "list3 += ('M','o','o','c') #뒤로 인덱스가 추가 된다\n",
    "print(list3, len(list3))"
   ]
  },
  {
   "cell_type": "code",
   "execution_count": 10,
   "id": "5de71c00-4e78-40ed-b514-34c043484a0d",
   "metadata": {},
   "outputs": [
    {
     "name": "stdout",
     "output_type": "stream",
     "text": [
      "[1, 2, 3, 4, 5, 6, 'c', 'a', 'b', 11, 12, 13]\n"
     ]
    }
   ],
   "source": [
    "#list 의 연결\n",
    "list12 =list1 + list2\n",
    "print(list12)"
   ]
  },
  {
   "cell_type": "code",
   "execution_count": 11,
   "id": "39195af6-4c65-4bbe-a74f-fc9c0a024f6f",
   "metadata": {},
   "outputs": [
    {
     "name": "stdout",
     "output_type": "stream",
     "text": [
      "(0,1) (1,2) (2,3) (3,4) (4,5) (5,6) (6,c) (7,a) (8,b) (9,11) (10,12) (11,13) "
     ]
    }
   ],
   "source": [
    "#list의 index와 element를 모두 출력\n",
    "for i in range(len(list12)): #for 반복문 사용\n",
    "    print(f'({i},{list12[i]})', end = ' ')"
   ]
  },
  {
   "cell_type": "markdown",
   "id": "331bce21-6e85-4068-b1c8-acebd6e541db",
   "metadata": {},
   "source": [
    "2. Tuples\n",
    "\n",
    "+ 수정이 불가능하다, 여러 타입이 저장가능하다\n",
    "\n",
    "+ list와 달리 일반 괄호로 표현한다."
   ]
  },
  {
   "cell_type": "code",
   "execution_count": 12,
   "id": "5b4de26f-ee56-431f-ba8a-ce6295e769cc",
   "metadata": {},
   "outputs": [
    {
     "name": "stdout",
     "output_type": "stream",
     "text": [
      "(10, 20, 30, 'John', 40, 50)\n"
     ]
    }
   ],
   "source": [
    "#tuple 선언\n",
    "t1 = 10,20,30,'John'\n",
    "t1 += (40,50)\n",
    "print(t1)"
   ]
  },
  {
   "cell_type": "code",
   "execution_count": 13,
   "id": "b3210146-fcb0-4a1b-9047-7911a2236c78",
   "metadata": {},
   "outputs": [
    {
     "name": "stdout",
     "output_type": "stream",
     "text": [
      "(1, 2, 3, 4)\n",
      "3\n",
      "(1, 2, 3)\n"
     ]
    }
   ],
   "source": [
    "#tuple indexing, slicing\n",
    "t2 = tuple([1,2,3,4])  #list가 tuple을 가지고 있는경우\n",
    "print(t2)\n",
    "print(t2[2])\n",
    "print(t2[:3])"
   ]
  },
  {
   "cell_type": "code",
   "execution_count": 14,
   "id": "1d0cbbfb-a269-4824-9556-774bad109bc0",
   "metadata": {},
   "outputs": [
    {
     "name": "stdout",
     "output_type": "stream",
     "text": [
      "('Kim', 'Park', 'Kwon', [100, 90, 80]) 4 [100, 90, 80]\n",
      "('Kim', 'Park', 'Kwon', [100, 85, 80])\n"
     ]
    }
   ],
   "source": [
    "t3 ='Kim','Park','Kwon', [100,90,80]\n",
    "print(t3,len(t3),t3[3])\n",
    "t3[3][1] =85 # list 안에 있는 element를 뽑아내기 위해 index(대괄호) 가 두 번 사용됨.\n",
    "print(t3)\n",
    "#tuple은 list를 element로 사용가능 list도 1개의 index로 처리"
   ]
  },
  {
   "cell_type": "markdown",
   "id": "15346fa1-fc74-40be-9ec3-e3dc0b0f728d",
   "metadata": {},
   "source": [
    "3. Tuple의 Unpacking (구성요소를 뽑아내는 기능)"
   ]
  },
  {
   "cell_type": "code",
   "execution_count": 15,
   "id": "9cec07da-69b5-4fb3-9625-8cfed4d065ea",
   "metadata": {},
   "outputs": [
    {
     "name": "stdout",
     "output_type": "stream",
     "text": [
      "2\n",
      "('Kim', 'Park', 'Kwon') [100, 90, 80] <class 'tuple'> <class 'list'>\n"
     ]
    }
   ],
   "source": [
    "#unpacking tuples\n",
    "t4 = (('Kim','Park','Kwon'),[100,90,80]) #t4 tuple 선언  2개의 인자가 존재 ex Kim = 0 -0 index     80 = 1-2 index\n",
    "print(len(t4)) #\n",
    "last_name, grades =t4 # t4 의 두 element를 각 이름 지정\n",
    "print(last_name, grades, type(last_name),type(grades)) #last_name은 tuple이고  grades는 list"
   ]
  },
  {
   "cell_type": "code",
   "execution_count": 16,
   "id": "671bf56d-8579-4597-8741-c2edf17ddcee",
   "metadata": {},
   "outputs": [
    {
     "name": "stdout",
     "output_type": "stream",
     "text": [
      "100 90 80\n"
     ]
    }
   ],
   "source": [
    "#Unpacking list\n",
    "grades1, grades2, grades3 = grades #index만큼 선언 후 각 index에 이름 할당\n",
    "print(grades1,grades2,grades3)"
   ]
  },
  {
   "cell_type": "code",
   "execution_count": 17,
   "id": "e3872d56-f2e6-4b78-b328-81f488b50134",
   "metadata": {},
   "outputs": [
    {
     "name": "stdout",
     "output_type": "stream",
     "text": [
      "W I F E\n"
     ]
    }
   ],
   "source": [
    "#Unpacking string\n",
    "first, second, third, fourth = 'WIFE'\n",
    "print(first, second, third, fourth)"
   ]
  },
  {
   "cell_type": "markdown",
   "id": "3a53cf06-37bc-4ccc-9888-66c778b4fda3",
   "metadata": {},
   "source": [
    "모든 데이터는 Unpacking이 가능하다."
   ]
  },
  {
   "cell_type": "markdown",
   "id": "beec81e1-f3a3-459c-bcdf-529cc3eaa3fa",
   "metadata": {},
   "source": [
    "4. Enumerate:A built in function\n",
    "\n",
    "+ Enumerate은 for 반복문을 사용하지 않고 index 값을 뽑아낸다."
   ]
  },
  {
   "cell_type": "code",
   "execution_count": 18,
   "id": "ed8efaf3-888a-413e-95bd-7e092fdd0c05",
   "metadata": {},
   "outputs": [
    {
     "name": "stdout",
     "output_type": "stream",
     "text": [
      "[(0, 'red'), (1, 'yellow'), (2, 'blue'), (3, 'black'), (4, 'white')]\n",
      "((0, 'red'), (1, 'yellow'), (2, 'blue'), (3, 'black'), (4, 'white'))\n"
     ]
    }
   ],
   "source": [
    "color = ['red','yellow','blue','black','white']\n",
    "print(list(enumerate(color))) #list로 추출\n",
    "print(tuple(enumerate(color))) #tuple로 추출"
   ]
  },
  {
   "cell_type": "code",
   "execution_count": 19,
   "id": "7a58da0a-c09f-4a26-9846-74b78d0df9f0",
   "metadata": {},
   "outputs": [
    {
     "name": "stdout",
     "output_type": "stream",
     "text": [
      "Creating a bar chart:\n",
      "Index   Value  Bar\n",
      "    0      19   *******************\n",
      "    1       8   ********\n",
      "    2      15   ***************\n",
      "    3       7   *******\n",
      "    4      11   ***********\n"
     ]
    }
   ],
   "source": [
    "# bar chort 생성\n",
    "bar = [19,8,15,7,11]\n",
    "print('Creating a bar chart:')\n",
    "print(f'Index{\"Value\":>8}  Bar')\n",
    "for index, value in enumerate(bar):\n",
    "    print(f'{index:>5}{value:>8}   {\"*\"*value}') # value x * 갯수"
   ]
  },
  {
   "cell_type": "markdown",
   "id": "b0d892a1-f90d-452f-8da6-f47b41ed54ab",
   "metadata": {},
   "source": [
    "5. list 의 slicing 심화"
   ]
  },
  {
   "cell_type": "code",
   "execution_count": 20,
   "id": "a6e46274-ee21-4a00-9267-c0c7f4514d85",
   "metadata": {},
   "outputs": [
    {
     "name": "stdout",
     "output_type": "stream",
     "text": [
      "[1, 2, 3, 4, 5, 6, 'c', 'a', 'b', 11, 12, 13] 12\n",
      "[1, 2, 3, 4, 5, 6, 'c', 'a', 'b', 11, 12, 13]\n",
      "[1, 3, 5, 'c', 'b', 12]\n"
     ]
    }
   ],
   "source": [
    "print(list12, len(list12))\n",
    "print(list12[:])   # :표시를 이용해 리스트 전체를 불러온다\n",
    "print(list12[::2]) # 인덱스를 2간격으로 증가시켜 불러온다"
   ]
  },
  {
   "cell_type": "code",
   "execution_count": 21,
   "id": "61a32161-3e8f-4e91-8222-b278cb085040",
   "metadata": {},
   "outputs": [
    {
     "name": "stdout",
     "output_type": "stream",
     "text": [
      "['one', 'two', 'three', 4, 5, 6, 'c', 'a', 'b', 11, 12, 13]\n",
      "[4, 5, 6, 'c', 'a', 'b', 11, 12, 13]\n"
     ]
    }
   ],
   "source": [
    "list12[0:3] = ['one','two','three'] # 0~3 index를 'one','two','three'로 대체 3 index 제외!! \n",
    "print(list12)\n",
    "list12[0:3] = []  # index 범위 지정후 대괄호 사이를 비워두면 구성요소를 지우라는 뜻\n",
    "print(list12)"
   ]
  },
  {
   "cell_type": "markdown",
   "id": "10ce0849-f5ff-46e6-b245-34dea615fa87",
   "metadata": {},
   "source": [
    "6. list와 element 삭제"
   ]
  },
  {
   "cell_type": "code",
   "execution_count": 22,
   "id": "2295987a-d07c-4d63-8733-22e311a1da3f",
   "metadata": {},
   "outputs": [
    {
     "name": "stdout",
     "output_type": "stream",
     "text": [
      "[4, 5, 6, 'c', 'a', 'b', 11, 12]\n",
      "[5, 'c', 'b', 12]\n",
      "[]\n"
     ]
    }
   ],
   "source": [
    "#element 삭제\n",
    "del list12[-1] #마지막 인덱스 삭제\n",
    "print(list12)\n",
    "del list12[::2] #index 짝수 번호 삭제\n",
    "print(list12)\n",
    "del list12[:] # index의 모든 element 삭제\n",
    "print(list12)"
   ]
  },
  {
   "cell_type": "code",
   "execution_count": 23,
   "id": "05cedb62-5a5c-4bc5-b023-fb518ad460b7",
   "metadata": {},
   "outputs": [
    {
     "name": "stdout",
     "output_type": "stream",
     "text": [
      "[19, 8, 15, 7, 11]\n"
     ]
    }
   ],
   "source": [
    "print(bar)\n",
    "del(bar)\n",
    "#print(bar) #삭제된 객체임으로 출력 오류가 발생한다."
   ]
  },
  {
   "cell_type": "markdown",
   "id": "d497ed8f-b8be-4249-b3f7-4c49e2c799d8",
   "metadata": {},
   "source": [
    "7. Method 를 이용한 List 정렬"
   ]
  },
  {
   "cell_type": "code",
   "execution_count": 24,
   "id": "c55c461a-ca1c-4a12-baf4-5a47bbc30f6b",
   "metadata": {},
   "outputs": [
    {
     "data": {
      "text/plain": [
       "[1, 2, 3, 4, 5, 6, 7, 8, 9, 11, 15]"
      ]
     },
     "execution_count": 24,
     "metadata": {},
     "output_type": "execute_result"
    }
   ],
   "source": [
    "number = [7,2,5,4,3,6,1,9,8,15,11]\n",
    "number.sort()  #sort 는 오름차순으로 정렬됨\n",
    "number"
   ]
  },
  {
   "cell_type": "code",
   "execution_count": 25,
   "id": "3af5221c-a57e-48fe-a119-9302b4d245f9",
   "metadata": {},
   "outputs": [
    {
     "name": "stdout",
     "output_type": "stream",
     "text": [
      "[15, 11, 9, 8, 7, 6, 5, 4, 3, 2, 1]\n",
      "[1, 2, 3, 4, 5, 6, 7, 8, 9, 11, 15]\n"
     ]
    }
   ],
   "source": [
    "number = [7,2,5,4,3,6,1,9,8,15,11]\n",
    "number.sort(reverse = True) #괄호 안에 문구를 넣으면 내림차순으로 정려됨  \n",
    "print(number)\n",
    "number.reverse()  #reverse 메소드를 사용하면 index를 역순으로 정렬\n",
    "print(number)"
   ]
  },
  {
   "cell_type": "code",
   "execution_count": 36,
   "id": "0449f0a9-f036-479f-b661-b917c1272ec9",
   "metadata": {},
   "outputs": [
    {
     "name": "stdout",
     "output_type": "stream",
     "text": [
      "['J', 'I', 'love', 'you,', 'and', 'do', 'you', 'love', 'me?'] <class 'list'>\n",
      "['J', 'I', 'do', 'and', 'you', 'me?', 'love', 'you,', 'love'] <class 'list'>\n",
      "['I', 'J', 'and', 'do', 'love', 'love', 'me?', 'you', 'you,']\n"
     ]
    }
   ],
   "source": [
    "# string type을 method를 이용해 정렬\n",
    "a_string = ' J I love you, and do you love me?'\n",
    "a_string = a_string.split() #split method를 사용하면 단어를 추출하여 list 화 시킴\n",
    "print(a_string,type(a_string))\n",
    "a_string.sort(key=len) # 문자열에 sort method를 사용하면 짧은 순서대로 정렬(같은 길이의 단어가 존재하면 문장에 표기된 순서대로 정렬)\n",
    "print(a_string,type(a_string))\n",
    "b_string = sorted(a_string) #sorted 명령어를 사용하면 ABC 순서대로 정렬(영어의 경우 대문자가 먼저 정렬되고 뒤에 소문자 정렬)\n",
    "print(b_string)"
   ]
  },
  {
   "cell_type": "code",
   "execution_count": 27,
   "id": "60f97e24-1bb7-4acd-98db-6df4248474dc",
   "metadata": {},
   "outputs": [
    {
     "name": "stdout",
     "output_type": "stream",
     "text": [
      "[7, 2, 5, 4, 3, 6, 1, 9, 8, 15, 11]\n",
      "[1, 2, 3, 4, 5, 6, 7, 8, 9, 11, 15]\n",
      "[11, 15, 8, 9, 1, 6, 3, 4, 5, 2, 7]\n",
      "[7, 2, 5, 4, 3, 6, 1, 9, 8, 15, 11]\n"
     ]
    }
   ],
   "source": [
    "x= [7,2,5,4,3,6,1,9,8,15,11]\n",
    "y= sorted(x)  #새로운 객체를 만들때 함수를 통과시켜 쉽게 생성가능\n",
    "z= reversed(x)\n",
    "print(x)\n",
    "print(y)\n",
    "print(list(z))\n",
    "print(x)"
   ]
  },
  {
   "cell_type": "markdown",
   "id": "fe0da011-00c0-42bc-a977-a405ab18165c",
   "metadata": {},
   "source": [
    "8. list 속 element searching"
   ]
  },
  {
   "cell_type": "code",
   "execution_count": 28,
   "id": "057918d3-0a56-4a8a-a91d-9e8122734568",
   "metadata": {},
   "outputs": [
    {
     "name": "stdout",
     "output_type": "stream",
     "text": [
      "4\n",
      "False\n",
      "True\n",
      "False\n"
     ]
    }
   ],
   "source": [
    "print(x.index(3))\n",
    "print(12 in x) #in , not in 은 boolean 값으로 결과 나옴\n",
    "print(12 not in x)\n",
    "print('Love' in a_string) #대소문자 구분으로 False 출력"
   ]
  },
  {
   "cell_type": "code",
   "execution_count": 29,
   "id": "a21db57f-43fc-47cb-80c5-fe29ed0f2ff8",
   "metadata": {},
   "outputs": [
    {
     "name": "stdout",
     "output_type": "stream",
     "text": [
      "['J', 'I', 'do', 'and', 'you', 'me?', 'love', 'you,', 'love']\n",
      "['J', 'I', 'do', 'him', 'and', 'you', 'me?', 'love', 'you,', 'love']\n"
     ]
    }
   ],
   "source": [
    "print(a_string)\n",
    "a_string.insert(3,'him') #3번 index를 him으로 변경 (insert 는 위치를 지정해 삽입)\n",
    "print(a_string)"
   ]
  },
  {
   "cell_type": "code",
   "execution_count": 30,
   "id": "fdbb3d0b-0ad3-4453-b6f5-eef9453052fb",
   "metadata": {},
   "outputs": [
    {
     "name": "stdout",
     "output_type": "stream",
     "text": [
      "['J', 'I', 'do', 'him', 'and', 'you', 'me?', 'love', 'you,', 'love', 'hate']\n",
      "['J', 'I', 'do', 'and', 'you', 'me?', 'love', 'you,', 'love', 'hate']\n"
     ]
    }
   ],
   "source": [
    "a_string.append('hate') #hate 추가 (마지막 index)\n",
    "print(a_string)\n",
    "a_string.remove('him') #him 제거\n",
    "print(a_string)"
   ]
  },
  {
   "cell_type": "code",
   "execution_count": 31,
   "id": "3cbc29a9-a26b-4fcd-873f-665c8fa6fb5d",
   "metadata": {},
   "outputs": [
    {
     "name": "stdout",
     "output_type": "stream",
     "text": [
      "['J', 'I', 'do', 'and', 'you', 'me?', 'love', 'you,', 'love', 'hate', 'I', 'and']\n",
      "['J', 'I', 'do', 'and', 'you', 'me?', 'love', 'you,', 'love', 'hate', 'i', 'and']\n"
     ]
    }
   ],
   "source": [
    "#하나 이상의 element 더하기\n",
    "print(a_string+['I','and'])\n",
    "a_string.extend(['i','and'])  #extend method 와 + 가 같은 결과\n",
    "print(a_string)"
   ]
  },
  {
   "cell_type": "code",
   "execution_count": 32,
   "id": "b725e015-f39c-4711-b579-c1661704a82f",
   "metadata": {},
   "outputs": [
    {
     "name": "stdout",
     "output_type": "stream",
     "text": [
      "[]\n"
     ]
    }
   ],
   "source": [
    "#list 구성 요소를 전부 삭제\n",
    "a_string.clear()  #or a_string[:] =[] or del a_string[:]\n",
    "print(a_string)"
   ]
  },
  {
   "cell_type": "code",
   "execution_count": 33,
   "id": "43198fc4-e307-4ae8-ba93-f22e390dde0a",
   "metadata": {},
   "outputs": [
    {
     "name": "stdout",
     "output_type": "stream",
     "text": [
      "[7, 2, 5, 4, 3, 6, 1, 9, 8, 15, 11]\n",
      "[7, 2, 5, 4, 3, 6, 1, 9, 8, 15, 11]\n",
      "[7, 2, 5, 4, 3, 6, 1, 9, 8, 15, 11]\n"
     ]
    }
   ],
   "source": [
    "#list 카피\n",
    "print(x)\n",
    "x_copied = x.copy() # x_copied = x[:]\n",
    "print(x_copied)\n",
    "print(x.copy())"
   ]
  },
  {
   "cell_type": "markdown",
   "id": "e445ae8c-1dc3-4b7c-8ac0-9a29541c47fb",
   "metadata": {},
   "source": [
    "9. List comprehensions\n",
    "\n",
    "여러줄의 코딩을 단순한 함수로 간략화 하는것"
   ]
  },
  {
   "cell_type": "code",
   "execution_count": 34,
   "id": "1be3fc6a-9750-422e-a16d-aa30095d591e",
   "metadata": {},
   "outputs": [
    {
     "name": "stdout",
     "output_type": "stream",
     "text": [
      "[0, 2, 4, 6, 8]\n",
      "[0, 2, 4, 6, 8]\n",
      "[1, 3, 5, 7, 9]\n"
     ]
    }
   ],
   "source": [
    "list_range=list(range(0,10,2))  #list 함수 속에 index만 설정하여 선언\n",
    "print(list_range)\n",
    "\n",
    "list_com= [ i for i in range(0,10,2)] #list 안에 for 문을 넣어 list 생성\n",
    "print(list_com)\n",
    "\n",
    "list_con= [i for i in range(0,10) if i % 2 != 0]\n",
    "print(list_con)"
   ]
  },
  {
   "cell_type": "code",
   "execution_count": 37,
   "id": "da1cd821-44af-4fcb-bc25-ed6eec5359d7",
   "metadata": {},
   "outputs": [
    {
     "name": "stdout",
     "output_type": "stream",
     "text": [
      "[0, 4, 16, 36, 64]\n",
      "['J', 'I', 'DO', 'AND', 'YOU', 'ME?', 'LOVE', 'YOU,', 'LOVE']\n"
     ]
    }
   ],
   "source": [
    "list_op=[i**2 for i in range(0,10,2)] # 0~9 사이의 짝수 제곱 출력\n",
    "print(list_op)\n",
    "list_up=[i.upper() for i in a_string] # a_string 문자열 대문자로 출력\n",
    "print(list_up)"
   ]
  },
  {
   "cell_type": "code",
   "execution_count": 39,
   "id": "15d4d8d2-191b-4794-a536-0d81b24f1e70",
   "metadata": {},
   "outputs": [
    {
     "name": "stdout",
     "output_type": "stream",
     "text": [
      "<generator object <genexpr> at 0x000001A18B9C65E0>\n",
      "[4, 8, 20, 40, 68]\n"
     ]
    }
   ],
   "source": [
    "#Generator expression : 생성자만 만들어져 있고 한단계 더 나가야 한다.\n",
    "list_gen = (i**2 for i in range(10) if i % 2 == 0)  #list 가 아닌 tuple로 선언하여 함수화한다\n",
    "print(list_gen)\n",
    "list_gen1 = [ i+4 for i in list_gen] # 함수화된 객체를 list로 선언하여 +4 하여 출력한다\n",
    "print(list_gen1)"
   ]
  },
  {
   "cell_type": "markdown",
   "id": "a1f40365-c453-45ba-a42e-7134368cfe07",
   "metadata": {},
   "source": [
    "10. lambda expression map, zip function"
   ]
  },
  {
   "cell_type": "code",
   "execution_count": 40,
   "id": "2da055ea-7899-4bfc-b3ae-ce489d11a628",
   "metadata": {},
   "outputs": [
    {
     "name": "stdout",
     "output_type": "stream",
     "text": [
      "[0, 1, 2, 3, 4, 5, 6, 7, 8, 9, 10, 11, 12, 13, 14, 15, 16, 17, 18, 19, 20, 21, 22, 23, 24]\n"
     ]
    }
   ],
   "source": [
    "list3 =list(range(0,25))\n",
    "print(list3)\n",
    "\n",
    "def is_multiple3(x):   # is_multiple n == n의 배수인가\n",
    "    \"\"\"Return True if x is multiple of 3\"\"\"\n",
    "    return x % 3 == 0"
   ]
  },
  {
   "cell_type": "code",
   "execution_count": 51,
   "id": "9b28c0fa-3056-4df6-93e5-3947133a7b74",
   "metadata": {},
   "outputs": [
    {
     "data": {
      "text/plain": [
       "[0, 3, 6, 9, 12, 15, 18, 21, 24]"
      ]
     },
     "execution_count": 51,
     "metadata": {},
     "output_type": "execute_result"
    }
   ],
   "source": [
    "#filter function = 하나의 generator\n",
    "#filter는 higher-order function 으로 하나의 인자로 받아 또 실행\n",
    "#filter는 하나의 인자만 받으며 조건이 맞으며 True를 return 한다\n",
    "list(filter(is_multiple3,list3)) \n",
    "#list의 element를 하나씩 is.multiple3 에 대입하여 맞으면 출력"
   ]
  },
  {
   "cell_type": "code",
   "execution_count": 50,
   "id": "39ebab4e-c475-49ba-8f3c-3793c793c44d",
   "metadata": {},
   "outputs": [
    {
     "data": {
      "text/plain": [
       "[0, 3, 6, 9, 12, 15, 18, 21, 24]"
      ]
     },
     "execution_count": 50,
     "metadata": {},
     "output_type": "execute_result"
    }
   ],
   "source": [
    "# lambda function : 무명 함수 (이름이 없음)\n",
    "list4= list(filter(lambda x: x%3 ==0, list3)) #람다는 :(콜론) 표시뒤에 역할을 지정\n",
    "list4"
   ]
  },
  {
   "cell_type": "code",
   "execution_count": 52,
   "id": "ce84d556-4d39-4e8a-8e8a-0770573881b1",
   "metadata": {},
   "outputs": [
    {
     "name": "stdout",
     "output_type": "stream",
     "text": [
      "[0, 9, 36, 81, 144, 225, 324, 441, 576]\n",
      "[0, 9, 36, 81, 144, 225, 324, 441, 576]\n"
     ]
    }
   ],
   "source": [
    "# map: generator의 한종류 새로운 값을 기존값에 맞춰서 생성\n",
    "print(list(map(lambda x: x**2, list4)))\n",
    "print([i**2 for i in list4])    #같은 결과 출력"
   ]
  },
  {
   "cell_type": "code",
   "execution_count": 54,
   "id": "323c9ca7-db41-45a6-80af-5fb90116cb39",
   "metadata": {},
   "outputs": [
    {
     "data": {
      "text/plain": [
       "[0, 9, 36, 81, 144, 225, 324, 441, 576]"
      ]
     },
     "execution_count": 54,
     "metadata": {},
     "output_type": "execute_result"
    }
   ],
   "source": [
    "#map 과 filter의 복합 사용 예시\n",
    "list(map(lambda x: x**2, filter(lambda x: x % 3 == 0, list3)))"
   ]
  },
  {
   "cell_type": "code",
   "execution_count": 57,
   "id": "2cb6fd05-2099-4c6b-8faa-a45e6288677b",
   "metadata": {},
   "outputs": [
    {
     "data": {
      "text/plain": [
       "[0, 9, 36, 81, 144, 225, 324, 441, 576]"
      ]
     },
     "execution_count": 57,
     "metadata": {},
     "output_type": "execute_result"
    }
   ],
   "source": [
    "[x**2 for x in list3 if x % 3 == 0]"
   ]
  },
  {
   "cell_type": "markdown",
   "id": "e3241c88-cc82-411c-94b3-b0bfc1971e06",
   "metadata": {},
   "source": [
    "\"\"\" 가장 효과적인 표현 새로운 list의 선언없이 같은 값 출력 \"\"\""
   ]
  },
  {
   "cell_type": "code",
   "execution_count": null,
   "id": "2e3b5466-b02a-4cef-8a46-ca895d3b2eab",
   "metadata": {},
   "outputs": [],
   "source": [
    "#key\n",
    "car = ['Santafe','Mini','Pony','Grandeur','Excel','elantra']\n",
    "car.sort(key=len)\n",
    "print(car)\n",
    "print(sorted(car))"
   ]
  }
 ],
 "metadata": {
  "kernelspec": {
   "display_name": "Python 3 (ipykernel)",
   "language": "python",
   "name": "python3"
  },
  "language_info": {
   "codemirror_mode": {
    "name": "ipython",
    "version": 3
   },
   "file_extension": ".py",
   "mimetype": "text/x-python",
   "name": "python",
   "nbconvert_exporter": "python",
   "pygments_lexer": "ipython3",
   "version": "3.10.8"
  }
 },
 "nbformat": 4,
 "nbformat_minor": 5
}
