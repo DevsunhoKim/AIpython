{
 "cells": [
  {
   "cell_type": "markdown",
   "id": "cc4f4d8b-9aed-412c-ba42-120237a28a7c",
   "metadata": {},
   "source": [
    "## Python Basic"
   ]
  },
  {
   "cell_type": "markdown",
   "id": "9541e5b0-12a7-4461-bea7-994b302df9d4",
   "metadata": {},
   "source": [
    "1. 올바른 띄워쓰기와 문자열(string)"
   ]
  },
  {
   "cell_type": "code",
   "execution_count": 6,
   "id": "ec1fcefe-fe7d-4df5-b973-7b349f59bd91",
   "metadata": {},
   "outputs": [
    {
     "name": "stdout",
     "output_type": "stream",
     "text": [
      "This Kooc is an exellent course\n"
     ]
    }
   ],
   "source": [
    "print('This Kooc is an exellent course')"
   ]
  },
  {
   "cell_type": "code",
   "execution_count": 14,
   "id": "0dff60a3-7f95-44cc-80e1-777711a4c226",
   "metadata": {},
   "outputs": [
    {
     "name": "stdout",
     "output_type": "stream",
     "text": [
      "Course name \n",
      "is Practice Python\n"
     ]
    }
   ],
   "source": [
    "print('Course name \\nis Practice Python') \n",
    "#\\n 줄바꿈 해쉬사인은 다음 문장에 입력"
   ]
  },
  {
   "cell_type": "code",
   "execution_count": 11,
   "id": "bf19e105-35bb-460a-a73e-57dcca5195de",
   "metadata": {},
   "outputs": [
    {
     "name": "stdout",
     "output_type": "stream",
     "text": [
      "Those who don`t take Kooc would regret their decision\n"
     ]
    }
   ],
   "source": [
    "print('Those who don`t take Kooc would regret their decision')"
   ]
  },
  {
   "cell_type": "markdown",
   "id": "2038351c-88ec-4995-82e9-24c4aad21b18",
   "metadata": {},
   "source": [
    "반복되는 print 명령에어 들여쓰기를 사용하면 에러"
   ]
  },
  {
   "cell_type": "markdown",
   "id": "5fb6b6f0-0ccd-47bb-97eb-9a3feffb750a",
   "metadata": {},
   "source": [
    "2. Integers,floats,decimal: 파이썬을 이용한 정확한 계산"
   ]
  },
  {
   "cell_type": "code",
   "execution_count": 15,
   "id": "31a763f1-9c9f-41b2-825e-4b5ca0535ac6",
   "metadata": {},
   "outputs": [
    {
     "data": {
      "text/plain": [
       "40"
      ]
     },
     "execution_count": 15,
     "metadata": {},
     "output_type": "execute_result"
    }
   ],
   "source": [
    "23+17"
   ]
  },
  {
   "cell_type": "code",
   "execution_count": 16,
   "id": "74e20495-6640-4587-8086-88dd0fe0df30",
   "metadata": {},
   "outputs": [
    {
     "data": {
      "text/plain": [
       "0.6666666666666666"
      ]
     },
     "execution_count": 16,
     "metadata": {},
     "output_type": "execute_result"
    }
   ],
   "source": [
    "2/3"
   ]
  },
  {
   "cell_type": "code",
   "execution_count": 22,
   "id": "2e2e0fc8-7ca6-456a-beb9-9e66c16632d2",
   "metadata": {},
   "outputs": [
    {
     "data": {
      "text/plain": [
       "40"
      ]
     },
     "execution_count": 22,
     "metadata": {},
     "output_type": "execute_result"
    }
   ],
   "source": [
    "x= 23; y=17 \n",
    "# ; 표시 사용으로 한 줄에 여러 변수를 지정가능\n",
    "x + y\n",
    "#print(x+y,x-y,x*y,x/y) "
   ]
  },
  {
   "cell_type": "markdown",
   "id": "f857210e-c875-41d0-b81a-974efbeb9e8d",
   "metadata": {},
   "source": [
    "3. 데이터 타입과 간단한 함수 출력"
   ]
  },
  {
   "cell_type": "code",
   "execution_count": 23,
   "id": "b058bdeb-9e7b-47a5-9990-5834dd1f1544",
   "metadata": {},
   "outputs": [],
   "source": [
    "#Addition"
   ]
  },
  {
   "cell_type": "code",
   "execution_count": 28,
   "id": "623aa7a7-609c-44d3-9ff3-beb0e030308f",
   "metadata": {},
   "outputs": [
    {
     "name": "stdout",
     "output_type": "stream",
     "text": [
      "y + z= 12.5\n",
      "y - z= -2.5\n",
      "y * z= 12.5\n",
      "y / z= 12.5\n",
      "y**2 z= 25\n",
      "y//2 z= 2\n",
      "y%2 z= 1\n",
      "<class 'int'>\n",
      "<class 'float'>\n"
     ]
    }
   ],
   "source": [
    "y= 5\n",
    "z=7.5\n",
    "print(\"y + z=\",y+z)\n",
    "# 문자열과 수식을 하나의 식에 적용가능\n",
    "print(\"y - z=\",y-z)\n",
    "print(\"y * z=\",y+z)\n",
    "print(\"y / z=\",y+z)\n",
    "print(\"y**2 z=\",y**2)\n",
    "print(\"y//2 z=\",y//2)\n",
    "print(\"y%2 z=\",y%2)\n",
    "# ** = 지수 , //= 숫자를 나눈 후에 몫, % = 숫자를 나눈후에 나머지\n",
    "print(type(y))\n",
    "print(type(z))\n"
   ]
  },
  {
   "cell_type": "markdown",
   "id": "154465c4-cc2c-4c94-9c47-33bd63058125",
   "metadata": {},
   "source": [
    "4. string,boolean, triple quoted string"
   ]
  },
  {
   "cell_type": "markdown",
   "id": "c8a004ae-bf53-4a9a-a658-8c7fb04e7aea",
   "metadata": {},
   "source": [
    "boolean =참, 거짓"
   ]
  },
  {
   "cell_type": "code",
   "execution_count": 30,
   "id": "2e501f60-f963-460a-9acb-6cb3e5a38312",
   "metadata": {},
   "outputs": [
    {
     "name": "stdout",
     "output_type": "stream",
     "text": [
      "True\n",
      "False\n",
      "<class 'bool'> True\n"
     ]
    }
   ],
   "source": [
    "print(7>3)\n",
    "print(3>7)\n",
    "x = 7>3\n",
    "print(type(x),x)"
   ]
  },
  {
   "cell_type": "code",
   "execution_count": 34,
   "id": "4bcb3451-18d1-4754-abf3-a48cf7b66822",
   "metadata": {},
   "outputs": [
    {
     "data": {
      "text/plain": [
       "'triple quoted string는 여러줄의문장을 메모 할 때 사용\\n   줄마다 사용하기도 간편함 코드의 기능을 잠깐 없애거나 수정할 때도 사용'"
      ]
     },
     "execution_count": 34,
     "metadata": {},
     "output_type": "execute_result"
    }
   ],
   "source": [
    "\"\"\"triple quoted string는 여러줄의문장을 메모 할 때 사용\n",
    "   줄마다 사용하기도 간편함 코드의 기능을 잠깐 없애거나 수정할 때도 사용, docstring 에도 사용!\"\"\" "
   ]
  },
  {
   "cell_type": "code",
   "execution_count": 33,
   "id": "a18f5af6-0279-49be-bd48-1109763051d1",
   "metadata": {},
   "outputs": [
    {
     "data": {
      "text/plain": [
       "'\\na + b = c\\nd + c = g\\n'"
      ]
     },
     "execution_count": 33,
     "metadata": {},
     "output_type": "execute_result"
    }
   ],
   "source": [
    "\"\"\"\n",
    "a + b = c\n",
    "d + c = g\n",
    "\"\"\""
   ]
  },
  {
   "cell_type": "markdown",
   "id": "511f5057-c4e3-42b3-aad4-d29b2974857e",
   "metadata": {},
   "source": [
    "5. input 을 이용"
   ]
  },
  {
   "cell_type": "code",
   "execution_count": 1,
   "id": "2851b8a8-5aec-4aa5-b8f4-fc48fb0a8d00",
   "metadata": {},
   "outputs": [
    {
     "name": "stdin",
     "output_type": "stream",
     "text": [
      "What`s your name? Kim Sunho\n"
     ]
    },
    {
     "name": "stdout",
     "output_type": "stream",
     "text": [
      "Kim Sunho <class 'str'>\n"
     ]
    }
   ],
   "source": [
    "your_name = input('What`s your name?')\n",
    "print(your_name, type(your_name))"
   ]
  },
  {
   "cell_type": "code",
   "execution_count": 1,
   "id": "68b84d9d-282a-4447-a133-34df9afd0a2b",
   "metadata": {},
   "outputs": [
    {
     "name": "stdin",
     "output_type": "stream",
     "text": [
      "How old are you? 30\n"
     ]
    },
    {
     "name": "stdout",
     "output_type": "stream",
     "text": [
      "30 <class 'str'>\n"
     ]
    }
   ],
   "source": [
    "your_age = input('How old are you?')\n",
    "print(your_age, type(your_age))"
   ]
  },
  {
   "cell_type": "code",
   "execution_count": null,
   "id": "ef5822ca-2cee-4da6-80ed-e35d258a170c",
   "metadata": {},
   "outputs": [],
   "source": [
    "my_age = input('How old am I?')\n",
    "print(your_age + my_age)\n",
    "#결과값을 문자열로 인식하여 글자가 합쳐진 결과로 출력 ex) 3020"
   ]
  },
  {
   "cell_type": "code",
   "execution_count": null,
   "id": "1761ffac-2e80-4d9b-832a-d098a273300d",
   "metadata": {},
   "outputs": [],
   "source": [
    "#문자열이 아닌 숫자로 출력하는 방법\n",
    "print(int(your_age)+int(my_age))\n",
    "int(21.8)\n",
    "#유리수에 int함수를 사용하면 가장 큰 정수 값이 나온다. ex)21.9 = 21   11.1 =11"
   ]
  },
  {
   "cell_type": "markdown",
   "id": "631e9e2d-1a7d-4e2e-9392-075577d79c79",
   "metadata": {},
   "source": [
    "6. if 를 이용한 조건문"
   ]
  },
  {
   "cell_type": "markdown",
   "id": "912e6b76-f7f9-4656-ad15-46345d2052a2",
   "metadata": {},
   "source": [
    "[ 비교연산자 ]"
   ]
  },
  {
   "cell_type": "markdown",
   "id": "3dcf1f59-c8d3-4cec-9a2c-52b56e495007",
   "metadata": {},
   "source": [
    "x > y : x가 y보다 큼\n",
    "\n",
    "x < y : x가 y보다 작음\n",
    "\n",
    "x >= y : x 가 y보다 크거나 같음\n",
    "\n",
    "x >= y : x 가 y보다 작거나 같음\n",
    "\n",
    "x == y : x와 y 가 같음\n",
    "\n",
    "x! = y : x와 y 가 같지 않음"
   ]
  },
  {
   "cell_type": "markdown",
   "id": "ab54048d-29d5-4309-8340-0d39980c217a",
   "metadata": {},
   "source": [
    "[ if 조건문 ]"
   ]
  },
  {
   "cell_type": "markdown",
   "id": "e399930f-1229-4630-8dc3-c0fc8491cf9f",
   "metadata": {},
   "source": [
    "if :  조건이 충족되면 특정 기능을 수행\n",
    "\n",
    "if...else : 조건이 충족되지 않을 때 다른 반응을 수행"
   ]
  },
  {
   "cell_type": "code",
   "execution_count": 3,
   "id": "a0c70917-3e5f-43d2-af83-1c9cee46dc4e",
   "metadata": {},
   "outputs": [
    {
     "name": "stdin",
     "output_type": "stream",
     "text": [
      "Enter an integer 1\n"
     ]
    },
    {
     "name": "stdout",
     "output_type": "stream",
     "text": [
      "x has value of 1\n"
     ]
    }
   ],
   "source": [
    "x = int(input('Enter an integer'))\n",
    "if x==1:\n",
    "    print('x has value of 1')\n",
    "else:\n",
    "    print('x does not have a value of 1') "
   ]
  },
  {
   "cell_type": "code",
   "execution_count": 11,
   "id": "87624e92-3427-487e-b538-f3044a2d02c9",
   "metadata": {},
   "outputs": [
    {
     "name": "stdin",
     "output_type": "stream",
     "text": [
      "Enter the first integer -1\n"
     ]
    },
    {
     "name": "stdout",
     "output_type": "stream",
     "text": [
      "The first integer is -1 and its value is nagavive\n"
     ]
    },
    {
     "name": "stdin",
     "output_type": "stream",
     "text": [
      "Enter the second integer -1\n"
     ]
    },
    {
     "name": "stdout",
     "output_type": "stream",
     "text": [
      "The second integer is nagative and its value is -1\n"
     ]
    }
   ],
   "source": [
    "var1 = int(input('Enter the first integer'))\n",
    "if var1 < 0:\n",
    "    print('The first integer is', var1 ,'and its value is nagavive')\n",
    "          \n",
    "var2 = int(input('Enter the second integer'))\n",
    "if var2 <0:\n",
    "          print('The second integer is nagative','and its value is',var2)\n",
    "else:\n",
    "          print('The second integer is positive','and its value is',var2)\n",
    "          "
   ]
  },
  {
   "cell_type": "markdown",
   "id": "dce220c8-2539-44b5-95e0-cbc4efac4043",
   "metadata": {},
   "source": [
    "7. 다양한 변수의 타입 변화"
   ]
  },
  {
   "cell_type": "code",
   "execution_count": 12,
   "id": "861b4297-84cc-4fbb-8880-312644bbbb4b",
   "metadata": {},
   "outputs": [
    {
     "name": "stdout",
     "output_type": "stream",
     "text": [
      "1 <class 'int'>\n",
      "2.5 <class 'float'>\n",
      "Arnold <class 'str'>\n"
     ]
    }
   ],
   "source": [
    "print(x, type(x))\n",
    "x = 2.5\n",
    "print(x, type(x))\n",
    "x = 'Arnold'\n",
    "print(x, type(x))"
   ]
  },
  {
   "cell_type": "markdown",
   "id": "9de13a3f-3801-4e7f-b50f-3df9911ca327",
   "metadata": {},
   "source": [
    "여러 변수를 재선언함으로 데이터 타입을 변화 시킬 수 있음(값과 데이터 타입에 대한 정보를 모두 저장)"
   ]
  },
  {
   "cell_type": "markdown",
   "id": "c7c0ae1c-f99b-4fde-bc0d-c1984182c70f",
   "metadata": {},
   "source": [
    "8. 한 줄의 여려 코드를 입력 (; 사용)"
   ]
  },
  {
   "cell_type": "code",
   "execution_count": 13,
   "id": "40e775db-0096-486d-991e-a07cd3acae70",
   "metadata": {},
   "outputs": [
    {
     "name": "stdout",
     "output_type": "stream",
     "text": [
      "hello!\n",
      "This is KOOC content \n",
      "for Python basic.\n"
     ]
    }
   ],
   "source": [
    "print('hello!'); print('This is KOOC content \\nfor Python basic.') "
   ]
  },
  {
   "cell_type": "code",
   "execution_count": null,
   "id": "ea2268ff-102d-4591-8f23-5dbe6c37c346",
   "metadata": {},
   "outputs": [],
   "source": []
  }
 ],
 "metadata": {
  "kernelspec": {
   "display_name": "Python 3 (ipykernel)",
   "language": "python",
   "name": "python3"
  },
  "language_info": {
   "codemirror_mode": {
    "name": "ipython",
    "version": 3
   },
   "file_extension": ".py",
   "mimetype": "text/x-python",
   "name": "python",
   "nbconvert_exporter": "python",
   "pygments_lexer": "ipython3",
   "version": "3.10.8"
  },
  "toc-autonumbering": true,
  "toc-showcode": false,
  "toc-showmarkdowntxt": true,
  "toc-showtags": false
 },
 "nbformat": 4,
 "nbformat_minor": 5
}
