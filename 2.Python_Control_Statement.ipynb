{
 "cells": [
  {
   "cell_type": "markdown",
   "id": "7a240a27-85e8-4c7f-988b-a5157100996f",
   "metadata": {},
   "source": [
    "Python 통제문을 만드는 방법"
   ]
  },
  {
   "cell_type": "markdown",
   "id": "e6cecce3-1c1f-422b-a258-1246dcd48666",
   "metadata": {},
   "source": [
    "if,elif,else,while,for,break,continue\n",
    "\n",
    "formatted string(새로운 출력 방법),agumented assingments"
   ]
  },
  {
   "cell_type": "markdown",
   "id": "64e4c604-0f47-4873-87ec-1e1a2f4d8e31",
   "metadata": {},
   "source": [
    "1. if...elif...else"
   ]
  },
  {
   "cell_type": "code",
   "execution_count": 14,
   "id": "f18ce165-296f-4713-a489-d70a5c005aef",
   "metadata": {},
   "outputs": [
    {
     "name": "stdin",
     "output_type": "stream",
     "text": [
      "Type your weight 90\n"
     ]
    },
    {
     "name": "stdout",
     "output_type": "stream",
     "text": [
      "fat! Exercise!\n"
     ]
    }
   ],
   "source": [
    "weight = int(input('Type your weight'))\n",
    "\n",
    "if weight >= 90:\n",
    "    print('fat!','Exercise!')\n",
    "elif weight >=60:   #if 뒤에나온 elif 는 if 에서 설정한 범위외의 것을 의미한다.\n",
    "    print('normal')\n",
    "else:\n",
    "    print('thin')\n",
    "    print('Eat more!')"
   ]
  },
  {
   "cell_type": "code",
   "execution_count": null,
   "id": "70dab259-7d00-41ee-9764-4b7b77c0428f",
   "metadata": {},
   "outputs": [],
   "source": [
    "# 점수를 숫자 등급으로 변환\n",
    "\n",
    "grade = float(input('Enter a grade'))\n",
    "\n",
    "if grade >= 90:\n",
    "    print('A')\n",
    "if 90 > grade >= 80:\n",
    "    print('B')\n",
    "if 80> grade >= 70:\n",
    "    print('C')\n",
    "if 70> grade >= 60:\n",
    "    print('D')\n",
    "if grade < 60:\n",
    "    print('F')\n",
    "#else:\n",
    "#    print('F')\n",
    "# 여러 줄의 if 문의 else 를 사용하면 오류발생\n"
   ]
  },
  {
   "cell_type": "code",
   "execution_count": null,
   "id": "bf05ced8-d1f2-4688-823e-2107eaf09021",
   "metadata": {},
   "outputs": [],
   "source": [
    "grade1 = int(input('Enter an integer grade'))\n",
    "\n",
    "if grade1 >= 90:\n",
    "    print('A')\n",
    "elif grade1 >=80:\n",
    "    print('B')\n",
    "elif grade1 >=70:\n",
    "    print('C')\n",
    "elif grade1 >=60:\n",
    "    print('D')\n",
    "else:\n",
    "    print('F')\n",
    "#elif 문은 윗줄에서 충족되는 값을 만나면 더 이상 실행하지 않음"
   ]
  },
  {
   "cell_type": "code",
   "execution_count": null,
   "id": "374f3ced-831c-445d-a8c5-dbb161b9aa39",
   "metadata": {},
   "outputs": [],
   "source": [
    "#여러 기준을 값을 분류하는 코드\n",
    "weight = int(input('Type your weight in kg'))\n",
    "height = int(input('Type your height in cm'))\n",
    "             \n",
    "if weight >= 90 and height <=150:\n",
    "             print('fat!','Exercise!')\n",
    "elif weight >= 60 or 160<= height <180:\n",
    "             print('normal')\n",
    "else:\n",
    "             print('thin!')\n",
    "             print('Eat more!')"
   ]
  },
  {
   "cell_type": "markdown",
   "id": "ac8c697b-bb46-4b70-b2b3-02ffec6a250b",
   "metadata": {},
   "source": [
    "While 문\n",
    "\n",
    "조건이 충족되는 한 무한히 반복됨 조건이 충족되지 않으면 멈춤"
   ]
  },
  {
   "cell_type": "code",
   "execution_count": null,
   "id": "5f9b8484-1919-4e62-99bc-d5cfe22fe1b6",
   "metadata": {},
   "outputs": [],
   "source": [
    "k = 1\n",
    "while k<=100: #모든 명령문에 첫문장 마지막에 : 사용  :이 표시된 첫문장은 자동으로 들여쓰기 적용\n",
    "    k=k*2\n",
    "    print(k)"
   ]
  },
  {
   "cell_type": "code",
   "execution_count": null,
   "id": "9a466ceb-f076-4051-8023-7daaaa5ecae4",
   "metadata": {},
   "outputs": [],
   "source": [
    "l=10\n",
    "while l >0:\n",
    "    l = l -1\n",
    "    print(l, end = '  ') #가로 문자열로 출력하는 방법"
   ]
  },
  {
   "cell_type": "code",
   "execution_count": null,
   "id": "38379b88-0981-4cb2-9d69-fcd8ff6d8d92",
   "metadata": {},
   "outputs": [],
   "source": [
    "#학급 평균 성적 계산\n",
    "total = 0\n",
    "counter = 0\n",
    "# 학점 입력\n",
    "grade = int(input('Enter grade or -1 to end: '))\n",
    "\n",
    "while grade != -1:\n",
    "    total += grade\n",
    "    counter += 1\n",
    "    grade = int(input('Enter grade or 1- to end: '))\n",
    "    \n",
    "if counter != 0:\n",
    "    average = total/counter\n",
    "    print('Total grade is' , total)\n",
    "    print('The number of students is', counter)\n",
    "    print(f'Class Average is {average}') #fomatted string = f string 문자열 안에 중괄효를 이용하여 변수를 받을 수 있다.\n",
    "else:\n",
    "    print('No grade were entered')"
   ]
  },
  {
   "cell_type": "markdown",
   "id": "6c08e337-8fd1-4c69-b8f4-89afdaeb7b58",
   "metadata": {},
   "source": [
    "for 를 이용한 반복문\n",
    "\n",
    "수열이나 문자열을 이용한 반복문 구성"
   ]
  },
  {
   "cell_type": "code",
   "execution_count": null,
   "id": "8653cd3c-b016-4ca0-a501-0d9b2c955e22",
   "metadata": {},
   "outputs": [],
   "source": [
    "for item in [1,2,3,4,5]: #대괄호 안 데이터 배열 for 와 in은 항상 같이 존재\n",
    "    print(\"item :\",item)\n",
    "    \n",
    "letters = ['A','B','C','D']\n",
    "for i in letters:\n",
    "    print('letters :', i)"
   ]
  },
  {
   "cell_type": "code",
   "execution_count": null,
   "id": "afe7db88-c579-4412-83f0-a922ed162b9e",
   "metadata": {},
   "outputs": [],
   "source": [
    "for i in range(len(letters)):\n",
    "    print('Each letter :',letters[i])\n",
    "    \n",
    "for i in 'PythonProgramming':\n",
    "    print(i, end='  ')\n",
    "    \n",
    "print()\n",
    "total = 0\n",
    "for number in [2,-3,0,17,9]:\n",
    "    total = total + number\n",
    "    print(total)"
   ]
  },
  {
   "cell_type": "markdown",
   "id": "91dacc3f-2171-42fe-b733-b05f545f27c8",
   "metadata": {},
   "source": [
    "4. Augmented assingnment\n",
    "\n",
    "+=    a+=2     a=a+2\n",
    "\n",
    "-+    a-=2     a=a-2\n",
    "\n",
    "*=    a*=2     a=a*2\n",
    "\n",
    "**=   a**=2    a=a**\n",
    "\n",
    "/=    a/=2     a=a/2\n",
    "\n",
    "//=   a//=2    a=a//2\n",
    "\n",
    "%=    a% =2    a=a%2"
   ]
  },
  {
   "cell_type": "code",
   "execution_count": null,
   "id": "db2d12ad-d9cd-4d74-bb29-a54db3bb82de",
   "metadata": {},
   "outputs": [],
   "source": [
    "total =0\n",
    "for i in range(10):\n",
    "    print(i, end=' ')\n",
    "    total += i\n",
    "total"
   ]
  },
  {
   "cell_type": "markdown",
   "id": "570f4e66-d0d5-46ab-b930-cb1b37972a67",
   "metadata": {},
   "source": [
    "5.Augmented assingnment와 for 문을 이용한 반복문"
   ]
  },
  {
   "cell_type": "code",
   "execution_count": null,
   "id": "604a9da0-40c0-43cd-995a-74f4adc47426",
   "metadata": {},
   "outputs": [],
   "source": [
    "total = 0\n",
    "NumStudents= 0\n",
    "grade = [98,76,71,87,83,90,57,79,82,94]\n",
    "for i in grade:\n",
    "    total += i\n",
    "    NumStudents += 1\n",
    "average = total/NumStudents\n",
    "print(f'Class average is {average:.2f}') #.2f 소수 둘째 자리까지 표시\n",
    "print(f'Average is {total/NumStudents:.2f}')"
   ]
  },
  {
   "cell_type": "markdown",
   "id": "23849c3f-b177-4ea3-b03c-460f1425e19e",
   "metadata": {},
   "source": [
    "6. 빌트인 함수, range"
   ]
  },
  {
   "cell_type": "code",
   "execution_count": null,
   "id": "ffa553d9-62bf-454d-8fc2-da4e18e58682",
   "metadata": {},
   "outputs": [],
   "source": [
    "for i in range(7,20):  #7에서 20으로 범위 지정\n",
    "    print(i, end =',  ')# 시작 숫자와 끝나는 숫자 출력"
   ]
  },
  {
   "cell_type": "code",
   "execution_count": null,
   "id": "258da313-07ef-4cad-bc38-df6d94d54950",
   "metadata": {},
   "outputs": [],
   "source": [
    "print()                      #print() 줄바꿈\n",
    "for i in range(10,20,3):\n",
    "    print (i, end= ', ')"
   ]
  },
  {
   "cell_type": "code",
   "execution_count": null,
   "id": "57455535-0156-4d4f-8a2f-c16ae6d3ecb5",
   "metadata": {},
   "outputs": [],
   "source": [
    "print()\n",
    "for i in range(15,0,-2):\n",
    "    print(i,end=', ')"
   ]
  },
  {
   "cell_type": "markdown",
   "id": "bc3b3417-2165-4a52-9a0a-5c309307f8b5",
   "metadata": {},
   "source": [
    "7. while 반복문과 for 반복문 심화"
   ]
  },
  {
   "cell_type": "markdown",
   "id": "ff69a259-c533-4eb4-a166-9e052dd34d79",
   "metadata": {},
   "source": [
    "break를 만나는 순간 즉시 반복 중단\n",
    "\n",
    "continue : 현재 진행중인 반복을 건너뛰고 다음 반복을 실행"
   ]
  },
  {
   "cell_type": "code",
   "execution_count": 1,
   "id": "258d773b-114f-4dae-85b0-b22cecccad86",
   "metadata": {},
   "outputs": [
    {
     "name": "stdout",
     "output_type": "stream",
     "text": [
      "9 8 7 6 5 4 3 2 1 0 \n",
      "Loop ended 1\n"
     ]
    }
   ],
   "source": [
    "l = 10\n",
    "while l > 0:\n",
    "    l = l - 1\n",
    "    print(l,end = ' ')\n",
    "print()\n",
    "print('Loop ended', 1)\n"
   ]
  },
  {
   "cell_type": "code",
   "execution_count": 2,
   "id": "5d6850c3-ffad-4a27-b97c-c9f8732c3b10",
   "metadata": {},
   "outputs": [
    {
     "name": "stdout",
     "output_type": "stream",
     "text": [
      "9 8 7 6 \n",
      "Loop ended 5\n"
     ]
    }
   ],
   "source": [
    "l = 10\n",
    "while l > 0:\n",
    "    l = l - 1\n",
    "    if l==5:\n",
    "        break\n",
    "    print(l,end = ' ')\n",
    "print()\n",
    "print('Loop ended',l)"
   ]
  },
  {
   "cell_type": "code",
   "execution_count": 3,
   "id": "4676c8a9-4b60-469d-9904-c017ef462dc8",
   "metadata": {},
   "outputs": [
    {
     "name": "stdout",
     "output_type": "stream",
     "text": [
      "9 8 7 6 4 3 2 1 0 \n",
      "Loop ended 0\n"
     ]
    }
   ],
   "source": [
    "l = 10\n",
    "while l > 0:\n",
    "    l = l - 1\n",
    "    if l == 5:\n",
    "        continue\n",
    "    print(l,end=' ')\n",
    "print()\n",
    "print('Loop ended',l)"
   ]
  },
  {
   "cell_type": "code",
   "execution_count": 4,
   "id": "e527992b-ee3e-4faf-b18b-26b4c67ae042",
   "metadata": {},
   "outputs": [
    {
     "name": "stdout",
     "output_type": "stream",
     "text": [
      "9 8 7 6 5 4 3 2 1 0 Loop ended 0\n"
     ]
    }
   ],
   "source": [
    "l = 10\n",
    "while l > 0:\n",
    "    l = l - 1\n",
    "    print(l,end=' ')\n",
    "else:\n",
    "    print('Loop ended',0)"
   ]
  },
  {
   "cell_type": "code",
   "execution_count": 6,
   "id": "09828136-4edc-4709-997e-098191a96419",
   "metadata": {},
   "outputs": [
    {
     "name": "stdout",
     "output_type": "stream",
     "text": [
      "9 8 7 6 "
     ]
    }
   ],
   "source": [
    "l = 10\n",
    "while l > 0:\n",
    "    l = l - 1\n",
    "    if l == 5:\n",
    "        break                 #5 값을 가지는 순간 아래 프린트 줄력 x\n",
    "    print(l, end = ' ')\n",
    "else:\n",
    "    print('Loop ended',l)"
   ]
  },
  {
   "cell_type": "code",
   "execution_count": 8,
   "id": "2751cf94-c358-49d6-ba21-42aaf19ab1e0",
   "metadata": {},
   "outputs": [
    {
     "name": "stdout",
     "output_type": "stream",
     "text": [
      "P y t h o n P r o g r a m m i n g "
     ]
    }
   ],
   "source": [
    "for l in 'PythonProgramming':\n",
    "    print(l, end=' ')"
   ]
  },
  {
   "cell_type": "code",
   "execution_count": 12,
   "id": "f3d5a3ae-bfbb-434f-8d14-cc19675bb427",
   "metadata": {},
   "outputs": [
    {
     "name": "stdout",
     "output_type": "stream",
     "text": [
      "P y t h o n P r o "
     ]
    }
   ],
   "source": [
    "for l in 'PythonProgramming':\n",
    "    if l == 'g':\n",
    "     break\n",
    "    print(l, end=' ')"
   ]
  },
  {
   "cell_type": "code",
   "execution_count": 13,
   "id": "e04e2d9c-da75-4070-8de5-03c87a24e2d0",
   "metadata": {},
   "outputs": [
    {
     "name": "stdout",
     "output_type": "stream",
     "text": [
      "P y t h o P r o g r a m m i g "
     ]
    }
   ],
   "source": [
    "for l in 'PythonProgramming':\n",
    "    if l == 'n':\n",
    "         continue\n",
    "    print(l,end=' ')"
   ]
  },
  {
   "cell_type": "code",
   "execution_count": null,
   "id": "2fd6f10c-bdb4-4056-b920-305ae246d38c",
   "metadata": {},
   "outputs": [],
   "source": []
  }
 ],
 "metadata": {
  "kernelspec": {
   "display_name": "Python 3 (ipykernel)",
   "language": "python",
   "name": "python3"
  },
  "language_info": {
   "codemirror_mode": {
    "name": "ipython",
    "version": 3
   },
   "file_extension": ".py",
   "mimetype": "text/x-python",
   "name": "python",
   "nbconvert_exporter": "python",
   "pygments_lexer": "ipython3",
   "version": "3.10.8"
  }
 },
 "nbformat": 4,
 "nbformat_minor": 5
}
