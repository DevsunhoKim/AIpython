{
 "cells": [
  {
   "cell_type": "markdown",
   "id": "44beb65c-927b-4b94-bddf-289e5f443884",
   "metadata": {},
   "source": [
    "## Python Function\n",
    "\n",
    "+ 빌트인 함수 : int, float, print, input, type, sum etc\n",
    "\n",
    "+ 또한 자체 제작 함수를 사용하여 유용한 작업 실행\n",
    "\n",
    "+ 함수는 def 라는 키워드로 시작된다. 이후 원하는 함수 이름을 할당(소문자로 시작 권장사항)\n",
    "\n",
    "+ 언더바 _ 를 사용하여 자세한 기능과 이름을 기술\n",
    "\n",
    "+ 권장사항으로 docstring \"\"\" 마크에 함수의 기능을 설명하여 놓는다"
   ]
  },
  {
   "cell_type": "markdown",
   "id": "d7334f7c-a911-4426-9fa8-3ae7716a86ae",
   "metadata": {},
   "source": [
    "1. 한 개 입력만 받는 함수 만들기"
   ]
  },
  {
   "cell_type": "code",
   "execution_count": 4,
   "id": "f78b5938-4092-48e0-abad-445574160575",
   "metadata": {},
   "outputs": [
    {
     "data": {
      "text/plain": [
       "(113.09733552923255, 37.69911184307752)"
      ]
     },
     "execution_count": 4,
     "metadata": {},
     "output_type": "execute_result"
    }
   ],
   "source": [
    "\n",
    "import math\n",
    "\n",
    "def circle(radius): #radius -> 변수\n",
    "    \"\"\"원의 반지름으로 면적과 둘레를 계산\"\"\"  #def 뒤에 return이 위치\n",
    "    return math.pi*radius**2,2*math.pi*radius #return = x 값을 이용하여 y 값을 출력하라는 의미   \n",
    "\n",
    "circle(6)"
   ]
  },
  {
   "cell_type": "code",
   "execution_count": 8,
   "id": "f40ec85f-ecc6-4ded-8d3c-38ff5ed02860",
   "metadata": {},
   "outputs": [
    {
     "name": "stdout",
     "output_type": "stream",
     "text": [
      "The area and circumference of a circle with 6 radius are 113.10cm squared and 37.70cm.\n"
     ]
    }
   ],
   "source": [
    "x = 6\n",
    "print(f'The area and circumference of a circle with {x} radius \\\n",
    "are {circle(x)[0]:.2f}cm squared and {circle(x)[1]:.2f}cm.')"
   ]
  },
  {
   "cell_type": "code",
   "execution_count": 13,
   "id": "6743749d-faeb-4ec6-b26b-636cb3497ede",
   "metadata": {},
   "outputs": [
    {
     "data": {
      "text/plain": [
       "\u001b[1;31mSignature:\u001b[0m \u001b[0mcircle\u001b[0m\u001b[1;33m(\u001b[0m\u001b[0mradius\u001b[0m\u001b[1;33m)\u001b[0m\u001b[1;33m\u001b[0m\u001b[1;33m\u001b[0m\u001b[0m\n",
       "\u001b[1;31mDocstring:\u001b[0m 원의 반지름으로 면적과 둘레를 계산\n",
       "\u001b[1;31mFile:\u001b[0m      c:\\users\\ksssk\\appdata\\local\\temp\\ipykernel_10524\\2816322263.py\n",
       "\u001b[1;31mType:\u001b[0m      function\n"
      ]
     },
     "metadata": {},
     "output_type": "display_data"
    }
   ],
   "source": [
    "circle?"
   ]
  },
  {
   "cell_type": "markdown",
   "id": "ddb97b80-4f24-4429-84a0-84f45f7daa87",
   "metadata": {},
   "source": [
    "함수이름 + ? 표시를 하면 함수의 다양한 정보를 제공 "
   ]
  },
  {
   "cell_type": "markdown",
   "id": "c0383d6c-e7af-46a8-a920-87fb68107063",
   "metadata": {},
   "source": [
    "2. 여러 개 입력을 받는 함수 만들기"
   ]
  },
  {
   "cell_type": "code",
   "execution_count": 16,
   "id": "e2f019e7-296f-4e27-b7b6-51d996891316",
   "metadata": {},
   "outputs": [
    {
     "data": {
      "text/plain": [
       "(21, 54, 6.0)"
      ]
     },
     "execution_count": 16,
     "metadata": {},
     "output_type": "execute_result"
    }
   ],
   "source": [
    "# x,y 두개의 값을 받음 코마 표시로 분리\n",
    "def myfunction(x,y):\n",
    "    \"\"\" 여러개의 입력을 받고 계산을 출력\"\"\"\n",
    "    \n",
    "    return x+y, x*y, x/y\n",
    "\n",
    "myfunction(18,3)"
   ]
  },
  {
   "cell_type": "code",
   "execution_count": 19,
   "id": "ada44f67-8fca-43d0-b14b-331c89453553",
   "metadata": {},
   "outputs": [
    {
     "name": "stdin",
     "output_type": "stream",
     "text": [
      "Enter first integer:  454\n",
      "Enter second integer:  12\n",
      "Enter third integer:  6\n"
     ]
    },
    {
     "data": {
      "text/plain": [
       "6"
      ]
     },
     "execution_count": 19,
     "metadata": {},
     "output_type": "execute_result"
    }
   ],
   "source": [
    "# 파라미터 리턴값을 받지 않는 함수\n",
    "def find_min():\n",
    "    \"\"\" 최소값을 찾는 함수\"\"\"\n",
    "    #인자로 받는것이 아니라 input을 이용해 값을 받아옴\n",
    "    x=int(input('Enter first integer: '))\n",
    "    y=int(input('Enter second integer: '))\n",
    "    z=int(input('Enter third integer: '))\n",
    "    minimum = x\n",
    "    if y < minimum:\n",
    "        minimum = y\n",
    "    if z < minimum:\n",
    "        minimum = z\n",
    "    return minimum\n",
    "\n",
    "find_min()"
   ]
  },
  {
   "cell_type": "code",
   "execution_count": 22,
   "id": "92c5433f-fe45-4c9a-a995-bade2ca1b0ee",
   "metadata": {},
   "outputs": [
    {
     "name": "stdout",
     "output_type": "stream",
     "text": [
      "7\n",
      "6\n"
     ]
    }
   ],
   "source": [
    "def findmin1(x,y,z):\n",
    "    \"\"\"세 개의 인자를 받는 함수\"\"\"\n",
    "    \n",
    "    return min(x,y,z)\n",
    "\n",
    "print(findmin1(7,8,9))\n",
    "print(x) #함수에서 사용되는 변수는 함수 내에서만 존재한다."
   ]
  },
  {
   "cell_type": "code",
   "execution_count": 23,
   "id": "dfdd3a2e-18e0-4c13-beb9-7529c3875aff",
   "metadata": {},
   "outputs": [
    {
     "name": "stdout",
     "output_type": "stream",
     "text": [
      "Minimum is 8.\n"
     ]
    }
   ],
   "source": [
    "print(f'Minimum is {findmin1(10,9,8)}.')"
   ]
  },
  {
   "cell_type": "markdown",
   "id": "901c189a-30cb-47b0-8678-fe5b5f4dbeda",
   "metadata": {},
   "source": [
    "3. 디폴트 값을 부여한 함수 만들기"
   ]
  },
  {
   "cell_type": "code",
   "execution_count": 31,
   "id": "114a69c4-16d9-4f69-b647-5d7fc4721661",
   "metadata": {},
   "outputs": [
    {
     "name": "stdout",
     "output_type": "stream",
     "text": [
      "15 25 20\n"
     ]
    }
   ],
   "source": [
    "def rectengle(width=3, height=5):\n",
    "    \"\"\" 직사각형의 면적 구하기\"\"\"\n",
    "    \n",
    "    return width*height\n",
    "print(rectengle(),rectengle(5),rectengle(4,5)) \n",
    "# 1개만 입력할 경우 첫변째 변수에 할당, 두 개 모두 입력시 순서대로 할당"
   ]
  },
  {
   "cell_type": "code",
   "execution_count": 32,
   "id": "c4d867af-61e6-4cc3-b657-acd0769d8d26",
   "metadata": {},
   "outputs": [
    {
     "name": "stdout",
     "output_type": "stream",
     "text": [
      "12 42\n"
     ]
    }
   ],
   "source": [
    "print(rectengle(height=4),rectengle(height=6, width =7))\n",
    "#변수 이름을 직접 지정하면 순서에 상관없이 정상적으로 계산 후 출력"
   ]
  },
  {
   "cell_type": "markdown",
   "id": "855c54e9-53ed-4579-b40b-b75da434b034",
   "metadata": {},
   "source": [
    "4. 변수의 갯수를 변화시킬 수 있는 함수 만들기"
   ]
  },
  {
   "cell_type": "code",
   "execution_count": 34,
   "id": "45bdffe9-7be1-42e3-8650-794f435d793d",
   "metadata": {},
   "outputs": [
    {
     "data": {
      "text/plain": [
       "58.6"
      ]
     },
     "execution_count": 34,
     "metadata": {},
     "output_type": "execute_result"
    }
   ],
   "source": [
    "def my_average(*nums): #함수 선언후 괄호 맨앞에 별표를 입력하여 구현\n",
    "    \"\"\" 여러 숫자의 평균값을 구하기\"\"\"\n",
    "    \n",
    "    return sum(nums)/len(nums) #sum = 인자의 합 , len = 인자의 갯수\n",
    "\n",
    "my_average(68,23,45,67,90)\n"
   ]
  },
  {
   "cell_type": "code",
   "execution_count": 36,
   "id": "876071a6-bb21-4edf-8cb6-fc53e80ed782",
   "metadata": {},
   "outputs": [
    {
     "data": {
      "text/plain": [
       "5.5"
      ]
     },
     "execution_count": 36,
     "metadata": {},
     "output_type": "execute_result"
    }
   ],
   "source": [
    "grades = [1,2,3,4,5,6,7,8,9,10]\n",
    "my_average(*grades)"
   ]
  },
  {
   "cell_type": "markdown",
   "id": "57e832d5-63df-48ff-a416-17e6e3ec31a7",
   "metadata": {},
   "source": [
    "5. 메인 함수와 -name- 변수\n",
    "\n",
    "+ Python에 기본 저장되어 있는 함수\n",
    "\n",
    "+ \"--main--\" 함수가 할당\n",
    "\n",
    "+ main 함수는 프로그램의 시작 함수"
   ]
  },
  {
   "cell_type": "code",
   "execution_count": 68,
   "id": "fe9391ed-1e30-409c-a1c1-aefc47214a33",
   "metadata": {},
   "outputs": [
    {
     "name": "stdout",
     "output_type": "stream",
     "text": [
      "The area and circumference of a circle with 5cm radius    are 78.54cm squared and 31.416cm.\n",
      "Main function is executed!\n"
     ]
    }
   ],
   "source": [
    "def mian(x):\n",
    "    \"\"\" 메인 함수의 기능 \"\"\"\n",
    "    print(f'The area and circumference of a circle with {x}cm radius\\\n",
    "  are {circle(x)[0]:.2f}cm squared and {circle(x)[1]:.3f}cm.')\n",
    "    print('Main function is excuted!')\n",
    "\n",
    "if __name__ == '__main__':\n",
    "    main()\n",
    "    \n",
    "#main(); __name__\n",
    "#메인을 지정하면 시작점을 파악하기 용이하다. (파이썬은 굳이 지정할 필요는 없지만 권장사항)"
   ]
  },
  {
   "cell_type": "code",
   "execution_count": 57,
   "id": "d3be4660-0d75-426e-aef2-8233334ddc08",
   "metadata": {},
   "outputs": [
    {
     "name": "stdout",
     "output_type": "stream",
     "text": [
      "The area and circumference of a circle with 5cm radius    are 78.54cm squared and 31.416cm.\n",
      "Main function is executed!\n",
      "The area and circumference of a circle with 5cm radius    are 78.54cm squared and 31.416cm.\n",
      "Main function is executed!\n"
     ]
    }
   ],
   "source": [
    "%run main_function.py   \n",
    "#%run 뒤에 파일명과 확장자 명을 입력하면 실행됨\n",
    "!python main_function.py\n",
    "#!python 뒤에 파일명과 확장자 명을 입력하면 실행"
   ]
  },
  {
   "cell_type": "code",
   "execution_count": 65,
   "id": "60cc675a-f366-4a91-b0f5-b8b2e910346d",
   "metadata": {},
   "outputs": [
    {
     "name": "stdout",
     "output_type": "stream",
     "text": [
      "(78.53981633974483, 31.41592653589793)\n",
      "main_function\n"
     ]
    }
   ],
   "source": [
    "import main_function as mf\n",
    "#mian_function 을 참조 + mf 라고 지칭\n",
    "print(mf.circle(5))\n",
    "#재활용에 용이\n",
    "print(mf.__name__)"
   ]
  },
  {
   "cell_type": "markdown",
   "id": "904db6bc-f9a4-45b1-b9bb-42f61b9c29ce",
   "metadata": {},
   "source": [
    "5. Python Stnadard library (Pure Python) \n",
    "\n",
    "+ http://docs.python.org/3/library/\n",
    "\n",
    "+ 자주 사용하는 기본 라이브러리 math, random, scv, demecal, datetime, json, statistics, etc\n",
    "\n",
    "+ Math module: http://docs.python.org/3/library/math.html"
   ]
  },
  {
   "cell_type": "markdown",
   "id": "b9f99499-89ed-4936-8960-84a6eaece14b",
   "metadata": {},
   "source": [
    "6. Tab 키를 활용하여 기본 라이브러리 찾기"
   ]
  },
  {
   "cell_type": "code",
   "execution_count": 70,
   "id": "48f76e14-d42d-4a0a-8802-f4ef89be5a7e",
   "metadata": {},
   "outputs": [],
   "source": [
    "#ma\n",
    "# +tab 키를 사용하면 ma 로 시작하는 기능 나열"
   ]
  },
  {
   "cell_type": "code",
   "execution_count": 71,
   "id": "cb6ae51d-7fa9-4d37-8047-70e2b5c76fc3",
   "metadata": {},
   "outputs": [],
   "source": [
    "#math.?\n",
    "#math안에 다른 기능 검색"
   ]
  },
  {
   "cell_type": "code",
   "execution_count": 72,
   "id": "137824cd-e7b8-4410-93b9-fe76cf51096a",
   "metadata": {},
   "outputs": [],
   "source": [
    "#math.fab \n",
    "#사용법 설명서 기능"
   ]
  },
  {
   "cell_type": "markdown",
   "id": "2874326f-f36b-4d0a-9d77-4afddf279dc6",
   "metadata": {},
   "source": [
    "7. Mathod in Python\n",
    "\n",
    "+ 개념적이나 물질적인 물제 = object 객체 객체에 특정기는을 덧붙히는 역할이 Mathod\n",
    "\n",
    "+ syntax : Your_object_name.method_name(argument)"
   ]
  },
  {
   "cell_type": "code",
   "execution_count": 76,
   "id": "35c6425a-0304-4592-bbed-1f491ba39066",
   "metadata": {},
   "outputs": [
    {
     "name": "stdout",
     "output_type": "stream",
     "text": [
      "kim sunho KIM SUNHO Kim sunho\n"
     ]
    }
   ],
   "source": [
    "my_name = 'Kim sunho'\n",
    "print(my_name.lower(), my_name.upper(), my_name)\n",
    "# lower, upper 메소드로 my_name 객체를 변화시킴\n",
    "# Method (함수)를 사용함으로써 모든 객체에 변형을 가할 수 있다."
   ]
  },
  {
   "cell_type": "markdown",
   "id": "d408ba55-8809-4f67-b9c2-98ca26c13603",
   "metadata": {},
   "source": [
    "8. Random number generation in Python"
   ]
  },
  {
   "cell_type": "code",
   "execution_count": 94,
   "id": "40072d00-ffb6-4d5a-b51a-31054d6903e6",
   "metadata": {},
   "outputs": [
    {
     "name": "stdout",
     "output_type": "stream",
     "text": [
      "4 5 6 5 3 5 3 3 6 3 "
     ]
    }
   ],
   "source": [
    "#랜덤 모듈 물러오기\n",
    "import random\n",
    "\n",
    "for roll in range(10): #1과 6사이의 랜덤 숫자 10개\n",
    "    print(random.randrange(1,7), end = ' ')\n",
    "#randrange 빌트인 함수로 두개의 정수 값을 가진다. range의 마지막은 포함하지 않는다."
   ]
  },
  {
   "cell_type": "code",
   "execution_count": 104,
   "id": "cbf7eccb-c6c4-4ab9-b46c-c4f27ebf923c",
   "metadata": {},
   "outputs": [
    {
     "name": "stdout",
     "output_type": "stream",
     "text": [
      "face    Frequency     Ratio\n",
      "   0         5032     50.32\n",
      "   1         4968     49.68\n"
     ]
    }
   ],
   "source": [
    "### 동전 10,00 회 던지기 ###\n",
    "\n",
    "frequency0 =0\n",
    "frequency1 =0\n",
    "sample = 10_000\n",
    "\n",
    "#숫자 천단위 구분은 언더바 _ 사용 (사용하지 않아도 무방)\n",
    "for roll in range(sample):\n",
    "    face = random.randrange(0,2)\n",
    "    if face == 0:\n",
    "        frequency0 += 1\n",
    "    else:\n",
    "        frequency1 += 1\n",
    "        \n",
    "print(f'{\"face\"}{\"Frequency\":>13}{\"Ratio\":>10}')   #항목부분\n",
    "print(f'{0:>4}{frequency0:13}{frequency0/sample*100:>10.2f}')\n",
    "print(f'{1:>4}{frequency1:13}{frequency1/sample*100:>10.2f}')\n",
    "# f-string tip\n",
    "# < 오른쪽으로 정렬 숫자만큼 공간확보!!\n",
    "# > 왼쪽으로 정렬 숫자만큼 공간확보!!\n"
   ]
  },
  {
   "cell_type": "code",
   "execution_count": 12,
   "id": "f8d53ba6-8fe1-4fa1-b76c-4ba2e1287d41",
   "metadata": {},
   "outputs": [
    {
     "name": "stdout",
     "output_type": "stream",
     "text": [
      "3 6 3 1 2 1 2 3 6 3 \n",
      "6 6 4 5 2 2 2 6 2 1 "
     ]
    }
   ],
   "source": [
    "# 같은 시드번호를 부여하면 어떤 환경에서도 같은 결과 값이 나옴\n",
    "random.seed(20191215)\n",
    "\n",
    "for roll in range(10):\n",
    "    print(random.randrange(1,7), end=' ')\n",
    "       \n",
    "print()\n",
    "for roll in range(10):\n",
    "    print(random.randrange(1,7), end=' ')"
   ]
  },
  {
   "cell_type": "code",
   "execution_count": 9,
   "id": "0cb26e74-9b61-4ec3-a0f5-e121ca017883",
   "metadata": {},
   "outputs": [
    {
     "name": "stdout",
     "output_type": "stream",
     "text": [
      "3 6 3 1 2 1 2 3 6 3 "
     ]
    }
   ],
   "source": [
    "for roll in range(10):\n",
    "    print(random.randrange(1,7), end=' ')"
   ]
  },
  {
   "cell_type": "markdown",
   "id": "9311fccc-121c-475c-ada5-f075f0038c20",
   "metadata": {},
   "source": [
    "9. Import 하는 방법\n",
    "\n",
    "+ import 할 library 이름 (기능) ex) import math.pi\n",
    "\n",
    "+ 특정 기능을 선택해서 import ex) from math import ceil sum (필요한 tool을 지정)\n",
    "\n",
    "+ import 와 별명 지정 ex) import statistic as stat, stat.mean()\n",
    "\n"
   ]
  },
  {
   "cell_type": "code",
   "execution_count": 16,
   "id": "bfb3780d-d0e4-450b-a812-f670ba866148",
   "metadata": {},
   "outputs": [
    {
     "name": "stdout",
     "output_type": "stream",
     "text": [
      "3.141592653589793 10 9\n",
      "4\n"
     ]
    }
   ],
   "source": [
    "from math import ceil, floor, pi\n",
    "import statistics as stat\n",
    "\n",
    "print (pi,ceil(9.8),floor(9.8))\n",
    "x = [3,4,5]\n",
    "print(stat.mean(x))\n",
    "# mean 함수는 평균 ( x 함수의 평균)\n",
    "# ceil 올림\n",
    "# floor 버림"
   ]
  },
  {
   "cell_type": "code",
   "execution_count": null,
   "id": "6a32e309-0be7-4fb8-ae45-99d828355033",
   "metadata": {},
   "outputs": [],
   "source": []
  }
 ],
 "metadata": {
  "kernelspec": {
   "display_name": "Python 3 (ipykernel)",
   "language": "python",
   "name": "python3"
  },
  "language_info": {
   "codemirror_mode": {
    "name": "ipython",
    "version": 3
   },
   "file_extension": ".py",
   "mimetype": "text/x-python",
   "name": "python",
   "nbconvert_exporter": "python",
   "pygments_lexer": "ipython3",
   "version": "3.10.8"
  }
 },
 "nbformat": 4,
 "nbformat_minor": 5
}
